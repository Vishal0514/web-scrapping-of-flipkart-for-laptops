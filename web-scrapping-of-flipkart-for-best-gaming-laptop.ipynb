{
 "cells": [
  {
   "cell_type": "markdown",
   "id": "ready-struggle",
   "metadata": {
    "_cell_guid": "ed876351-4bed-4c5c-9fe4-5f86eb3ace9c",
    "_uuid": "25a92fc5-1567-4e58-9d74-b7b682a67529",
    "jupyter": {
     "outputs_hidden": false
    },
    "papermill": {
     "duration": 0.016392,
     "end_time": "2021-05-08T07:23:13.140615",
     "exception": false,
     "start_time": "2021-05-08T07:23:13.124223",
     "status": "completed"
    },
    "tags": []
   },
   "source": [
    "## How Do You Scrape Data From A Website?\n",
    "\n",
    "When you run the code for web scraping, a request is sent to the URL that you have mentioned. As a response to the request, the server sends the data and allows you to read the HTML or XML page. The code then, parses the HTML or XML page, finds the data and extracts it.\n",
    "\n",
    "To extract data using web scraping with python, you need to follow these basic steps:\n",
    "\n",
    "_**1) Find the URL that you want to scrape.**_\n",
    "\n",
    "_**2) Inspecting the Page.**_\n",
    "\n",
    "_**3) Find the data you want to extract.**_\n",
    "\n",
    "_**4) Write the code.**_\n",
    "\n",
    "_**5) Run the code and extract the data.**_\n",
    "\n",
    "_**6) Store the data in the required format.**_\n",
    "\n",
    "Now let us see how to extract data from the Flipkart website using Python."
   ]
  },
  {
   "cell_type": "markdown",
   "id": "boring-abuse",
   "metadata": {
    "papermill": {
     "duration": 0.016437,
     "end_time": "2021-05-08T07:23:13.174041",
     "exception": false,
     "start_time": "2021-05-08T07:23:13.157604",
     "status": "completed"
    },
    "tags": []
   },
   "source": [
    "## Libraries used for Web Scraping:\n",
    "\n",
    "As we know, Python is has various applications and there are different libraries for different purposes. In our further demonstration, we will be using the following libraries:\n",
    "\n",
    "#### 1) Selenium:\n",
    "Selenium is a web testing library. It is used to automate browser activities.\n",
    "\n",
    "#### 2) BeautifulSoup:\n",
    "Beautiful Soup is a Python package for parsing HTML and XML documents. It creates parse trees that is helpful to extract the data easily.\n",
    "\n",
    "#### 3) Pandas:\n",
    "Pandas is a library used for data manipulation and analysis. It is used to extract the data and store it in the desired format."
   ]
  },
  {
   "cell_type": "markdown",
   "id": "warming-serve",
   "metadata": {
    "papermill": {
     "duration": 0.016255,
     "end_time": "2021-05-08T07:23:13.207074",
     "exception": false,
     "start_time": "2021-05-08T07:23:13.190819",
     "status": "completed"
    },
    "tags": []
   },
   "source": [
    "So, with this, we will get started with writing our own code for **Laptops for gaming under 80000/-** on Flipkart website ✌️\n",
    "\n",
    "\"https://www.flipkart.com/search?q=best%20laptops%20under%2080000&otracker=search&otracker1=search&marketplace=FLIPKART&as-show=on&as=off\""
   ]
  },
  {
   "cell_type": "markdown",
   "id": "removable-target",
   "metadata": {
    "papermill": {
     "duration": 0.016248,
     "end_time": "2021-05-08T07:23:13.240252",
     "exception": false,
     "start_time": "2021-05-08T07:23:13.224004",
     "status": "completed"
    },
    "tags": []
   },
   "source": [
    "### Install bs4:"
   ]
  },
  {
   "cell_type": "code",
   "execution_count": 1,
   "id": "taken-attendance",
   "metadata": {
    "execution": {
     "iopub.execute_input": "2021-05-08T07:23:13.285230Z",
     "iopub.status.busy": "2021-05-08T07:23:13.284663Z",
     "iopub.status.idle": "2021-05-08T07:23:23.285065Z",
     "shell.execute_reply": "2021-05-08T07:23:23.284533Z"
    },
    "papermill": {
     "duration": 10.027796,
     "end_time": "2021-05-08T07:23:23.285260",
     "exception": false,
     "start_time": "2021-05-08T07:23:13.257464",
     "status": "completed"
    },
    "tags": []
   },
   "outputs": [
    {
     "name": "stdout",
     "output_type": "stream",
     "text": [
      "Requirement already satisfied: bs4 in c:\\users\\91784\\anaconda3\\lib\\site-packages (0.0.1)\n",
      "Requirement already satisfied: beautifulsoup4 in c:\\users\\91784\\anaconda3\\lib\\site-packages (from bs4) (4.11.1)\n",
      "Requirement already satisfied: soupsieve>1.2 in c:\\users\\91784\\anaconda3\\lib\\site-packages (from beautifulsoup4->bs4) (2.3.1)\n",
      "Note: you may need to restart the kernel to use updated packages.\n"
     ]
    }
   ],
   "source": [
    "pip install bs4"
   ]
  },
  {
   "cell_type": "markdown",
   "id": "printable-classification",
   "metadata": {
    "papermill": {
     "duration": 0.020705,
     "end_time": "2021-05-08T07:23:23.328229",
     "exception": false,
     "start_time": "2021-05-08T07:23:23.307524",
     "status": "completed"
    },
    "tags": []
   },
   "source": [
    "### Let's Import all the libraries:"
   ]
  },
  {
   "cell_type": "code",
   "execution_count": 2,
   "id": "determined-certificate",
   "metadata": {
    "execution": {
     "iopub.execute_input": "2021-05-08T07:23:23.374526Z",
     "iopub.status.busy": "2021-05-08T07:23:23.373747Z",
     "iopub.status.idle": "2021-05-08T07:23:23.515317Z",
     "shell.execute_reply": "2021-05-08T07:23:23.514367Z"
    },
    "papermill": {
     "duration": 0.166616,
     "end_time": "2021-05-08T07:23:23.515468",
     "exception": false,
     "start_time": "2021-05-08T07:23:23.348852",
     "status": "completed"
    },
    "tags": []
   },
   "outputs": [],
   "source": [
    "import urllib.request\n",
    "from bs4 import BeautifulSoup\n",
    "from urllib.request import urlopen"
   ]
  },
  {
   "cell_type": "markdown",
   "id": "ideal-kingdom",
   "metadata": {
    "papermill": {
     "duration": 0.021339,
     "end_time": "2021-05-08T07:23:23.558232",
     "exception": false,
     "start_time": "2021-05-08T07:23:23.536893",
     "status": "completed"
    },
    "tags": []
   },
   "source": [
    "### Input the URL to be scrapped:"
   ]
  },
  {
   "cell_type": "code",
   "execution_count": 3,
   "id": "express-jesus",
   "metadata": {
    "execution": {
     "iopub.execute_input": "2021-05-08T07:23:23.604864Z",
     "iopub.status.busy": "2021-05-08T07:23:23.603983Z",
     "iopub.status.idle": "2021-05-08T07:23:23.606542Z",
     "shell.execute_reply": "2021-05-08T07:23:23.606012Z"
    },
    "papermill": {
     "duration": 0.027388,
     "end_time": "2021-05-08T07:23:23.606651",
     "exception": false,
     "start_time": "2021-05-08T07:23:23.579263",
     "status": "completed"
    },
    "tags": []
   },
   "outputs": [],
   "source": [
    "url = \"https://www.flipkart.com/search?q=best%20laptops%20under%2080000&otracker=search&otracker1=search&marketplace=FLIPKART&as-show=on&as=off\""
   ]
  },
  {
   "cell_type": "markdown",
   "id": "choice-plenty",
   "metadata": {
    "papermill": {
     "duration": 0.020432,
     "end_time": "2021-05-08T07:23:23.647702",
     "exception": false,
     "start_time": "2021-05-08T07:23:23.627270",
     "status": "completed"
    },
    "tags": []
   },
   "source": [
    "Use urlopen to open the url and read the details in it."
   ]
  },
  {
   "cell_type": "code",
   "execution_count": 4,
   "id": "quarterly-bookmark",
   "metadata": {
    "execution": {
     "iopub.execute_input": "2021-05-08T07:23:23.700512Z",
     "iopub.status.busy": "2021-05-08T07:23:23.693567Z",
     "iopub.status.idle": "2021-05-08T07:23:26.920221Z",
     "shell.execute_reply": "2021-05-08T07:23:26.921239Z"
    },
    "papermill": {
     "duration": 3.252999,
     "end_time": "2021-05-08T07:23:26.921443",
     "exception": false,
     "start_time": "2021-05-08T07:23:23.668444",
     "status": "completed"
    },
    "tags": []
   },
   "outputs": [],
   "source": [
    "page = urlopen(url)\n",
    "page_html = page.read()\n",
    "page.close()\n",
    "page_soup = BeautifulSoup(page_html, \"html.parser\")"
   ]
  },
  {
   "cell_type": "markdown",
   "id": "quick-feeling",
   "metadata": {
    "papermill": {
     "duration": 0.043233,
     "end_time": "2021-05-08T07:23:27.042243",
     "exception": false,
     "start_time": "2021-05-08T07:23:26.999010",
     "status": "completed"
    },
    "tags": []
   },
   "source": [
    "Checking for all the containers available."
   ]
  },
  {
   "cell_type": "code",
   "execution_count": 5,
   "id": "answering-highland",
   "metadata": {
    "execution": {
     "iopub.execute_input": "2021-05-08T07:23:27.146207Z",
     "iopub.status.busy": "2021-05-08T07:23:27.145513Z",
     "iopub.status.idle": "2021-05-08T07:23:27.149894Z",
     "shell.execute_reply": "2021-05-08T07:23:27.150566Z"
    },
    "papermill": {
     "duration": 0.076117,
     "end_time": "2021-05-08T07:23:27.150757",
     "exception": false,
     "start_time": "2021-05-08T07:23:27.074640",
     "status": "completed"
    },
    "tags": []
   },
   "outputs": [
    {
     "name": "stdout",
     "output_type": "stream",
     "text": [
      "24\n"
     ]
    }
   ],
   "source": [
    "containers = page_soup.findAll(\"div\", { \"class\": \"_2kHMtA\"})\n",
    "print(len(containers))"
   ]
  },
  {
   "cell_type": "markdown",
   "id": "heated-pledge",
   "metadata": {
    "papermill": {
     "duration": 0.11945,
     "end_time": "2021-05-08T07:23:27.313743",
     "exception": false,
     "start_time": "2021-05-08T07:23:27.194293",
     "status": "completed"
    },
    "tags": []
   },
   "source": [
    "Using the BeautifulSoup, get all the parsed tree into a nicely formatted Unicode string, with a separate line for each tag and each string"
   ]
  },
  {
   "cell_type": "code",
   "execution_count": 6,
   "id": "sexual-opera",
   "metadata": {
    "execution": {
     "iopub.execute_input": "2021-05-08T07:23:27.366015Z",
     "iopub.status.busy": "2021-05-08T07:23:27.362802Z",
     "iopub.status.idle": "2021-05-08T07:23:27.370971Z",
     "shell.execute_reply": "2021-05-08T07:23:27.370374Z"
    },
    "papermill": {
     "duration": 0.03551,
     "end_time": "2021-05-08T07:23:27.371111",
     "exception": false,
     "start_time": "2021-05-08T07:23:27.335601",
     "status": "completed"
    },
    "tags": []
   },
   "outputs": [
    {
     "name": "stdout",
     "output_type": "stream",
     "text": [
      "<div class=\"_2kHMtA\">\n",
      " <a class=\"_1fQZEK\" href=\"/hp-pavilion-x360-2023-intel-core-i5-13th-gen-16-gb-1-tb-ssd-windows-11-home-14-ek1010tu-thin-light-laptop/p/itm9f3a53215418f?pid=COMGNJMCCHSS98VZ&amp;lid=LSTCOMGNJMCCHSS98VZVUTRZQ&amp;marketplace=FLIPKART&amp;q=best+laptops+under+80000&amp;store=search.flipkart.com&amp;srno=s_1_4&amp;otracker=search&amp;otracker1=search&amp;fm=organic&amp;iid=a46bda4a-ca36-4ad6-b471-b51fd1253b0b.COMGNJMCCHSS98VZ.SEARCH&amp;ppt=None&amp;ppn=None&amp;ssid=pwfb0i1xy80000001686398536938&amp;qH=cdff68aec3053e4d\" rel=\"noopener noreferrer\" target=\"_blank\">\n",
      "  <div class=\"MIXNux\">\n",
      "   <div class=\"_2QcLo-\">\n",
      "    <div>\n",
      "     <div class=\"CXW8mj\" style=\"height:200px;width:200px\">\n",
      "      <img alt=\"HP Pavilion x360 (2023) Intel Core i5 13th Gen - (16 GB/1 TB SSD/Windows 11 Home) 14-ek1010TU Thin and...\" class=\"_396cs4\" loading=\"eager\" src=\"https://rukminim1.flixcart.com/image/312/312/xif0q/computer/d/9/g/-original-imagp7pgh3rbnwbh.jpeg?q=70\"/>\n",
      "     </div>\n",
      "    </div>\n",
      "   </div>\n",
      "   <div class=\"_3wLduG\">\n",
      "    <div class=\"_3PzNI-\">\n",
      "     <span class=\"f3A4_V\">\n",
      "      <label class=\"_2iDkf8\">\n",
      "       <input class=\"_30VH1S\" readonly=\"\" type=\"checkbox\"/>\n",
      "       <div class=\"_24_Dny\">\n",
      "       </div>\n",
      "      </label>\n",
      "     </span>\n",
      "     <label class=\"_6Up2sF\">\n",
      "      <span>\n",
      "       Add to Compare\n",
      "      </span>\n",
      "     </label>\n",
      "    </div>\n",
      "   </div>\n",
      "   <div class=\"_2hVSre _3nq8ih\">\n",
      "    <div class=\"_36FSn5\">\n",
      "     <svg class=\"_1l0elc\" height=\"16\" viewbox=\"0 0 20 16\" width=\"16\" xmlns=\"http://www.w3.org/2000/svg\">\n",
      "      <path class=\"eX72wL\" d=\"M8.695 16.682C4.06 12.382 1 9.536 1 6.065 1 3.219 3.178 1 5.95 1c1.566 0 3.069.746 4.05 1.915C10.981 1.745 12.484 1 14.05 1 16.822 1 19 3.22 19 6.065c0 3.471-3.06 6.316-7.695 10.617L10 17.897l-1.305-1.215z\" fill=\"#2874F0\" fill-rule=\"evenodd\" opacity=\".9\" stroke=\"#FFF\">\n",
      "      </path>\n",
      "     </svg>\n",
      "    </div>\n",
      "   </div>\n",
      "  </div>\n",
      "  <div class=\"_3pLy-c row\">\n",
      "   <div class=\"col col-7-12\">\n",
      "    <div class=\"_4rR01T\">\n",
      "     HP Pavilion x360 (2023) Intel Core i5 13th Gen - (16 GB/1 TB SSD/Windows 11 Home) 14-ek1010TU Thin and...\n",
      "    </div>\n",
      "    <div class=\"gUuXy-\">\n",
      "     <span class=\"_1lRcqv\" id=\"productRating_LSTCOMGNJMCCHSS98VZVUTRZQ_COMGNJMCCHSS98VZ_\">\n",
      "      <div class=\"_3LWZlK\">\n",
      "       3.9\n",
      "       <img class=\"_1wB99o\" src=\"data:image/svg+xml;base64,PHN2ZyB4bWxucz0iaHR0cDovL3d3dy53My5vcmcvMjAwMC9zdmciIHdpZHRoPSIxMyIgaGVpZ2h0PSIxMiI+PHBhdGggZmlsbD0iI0ZGRiIgZD0iTTYuNSA5LjQzOWwtMy42NzQgMi4yMy45NC00LjI2LTMuMjEtMi44ODMgNC4yNTQtLjQwNEw2LjUuMTEybDEuNjkgNC4wMSA0LjI1NC40MDQtMy4yMSAyLjg4Mi45NCA0LjI2eiIvPjwvc3ZnPg==\"/>\n",
      "      </div>\n",
      "     </span>\n",
      "     <span class=\"_2_R_DZ\">\n",
      "      <span>\n",
      "       <span>\n",
      "        10 Ratings\n",
      "       </span>\n",
      "       <span class=\"_13vcmD\">\n",
      "        &amp;\n",
      "       </span>\n",
      "       <span>\n",
      "        3 Reviews\n",
      "       </span>\n",
      "      </span>\n",
      "     </span>\n",
      "    </div>\n",
      "    <div class=\"fMghEO\">\n",
      "     <ul class=\"_1xgFaf\">\n",
      "      <li class=\"rgWa7D\">\n",
      "       Intel Core i5 Processor (13th Gen)\n",
      "      </li>\n",
      "      <li class=\"rgWa7D\">\n",
      "       16 GB DDR4 RAM\n",
      "      </li>\n",
      "      <li class=\"rgWa7D\">\n",
      "       64 bit Windows 11 Operating System\n",
      "      </li>\n",
      "      <li class=\"rgWa7D\">\n",
      "       1 TB SSD\n",
      "      </li>\n",
      "      <li class=\"rgWa7D\">\n",
      "       35.56 cm (14 Inch) Touchscreen Display\n",
      "      </li>\n",
      "      <li class=\"rgWa7D\">\n",
      "       1 Year Onsite Warranty\n",
      "      </li>\n",
      "     </ul>\n",
      "    </div>\n",
      "   </div>\n",
      "   <div class=\"col col-5-12 nlI3QM\">\n",
      "    <div class=\"_3tbKJL\">\n",
      "     <div class=\"_25b18c\">\n",
      "      <div class=\"_30jeq3 _1_WHN1\">\n",
      "       ₹76,990\n",
      "      </div>\n",
      "      <div class=\"_3I9_wc _27UcVY\">\n",
      "       ₹\n",
      "       <!-- -->\n",
      "       92,746\n",
      "      </div>\n",
      "      <div class=\"_3Ay6Sb\">\n",
      "       <span>\n",
      "        16% off\n",
      "       </span>\n",
      "      </div>\n",
      "     </div>\n",
      "    </div>\n",
      "    <div class=\"_13J9qT\">\n",
      "     <img height=\"21\" src=\"//static-assets-web.flixcart.com/fk-p-linchpin-web/fk-cp-zion/img/fa_62673a.png\"/>\n",
      "    </div>\n",
      "   </div>\n",
      "  </div>\n",
      " </a>\n",
      "</div>\n"
     ]
    }
   ],
   "source": [
    "print(BeautifulSoup.prettify(containers[3]))"
   ]
  },
  {
   "cell_type": "markdown",
   "id": "linear-place",
   "metadata": {
    "papermill": {
     "duration": 0.03135,
     "end_time": "2021-05-08T07:23:27.438485",
     "exception": false,
     "start_time": "2021-05-08T07:23:27.407135",
     "status": "completed"
    },
    "tags": []
   },
   "source": [
    "### Get the Name of the produt:"
   ]
  },
  {
   "cell_type": "code",
   "execution_count": 7,
   "id": "freelance-creature",
   "metadata": {
    "execution": {
     "iopub.execute_input": "2021-05-08T07:23:27.517985Z",
     "iopub.status.busy": "2021-05-08T07:23:27.517192Z",
     "iopub.status.idle": "2021-05-08T07:23:27.520980Z",
     "shell.execute_reply": "2021-05-08T07:23:27.518640Z"
    },
    "papermill": {
     "duration": 0.049562,
     "end_time": "2021-05-08T07:23:27.521221",
     "exception": false,
     "start_time": "2021-05-08T07:23:27.471659",
     "status": "completed"
    },
    "tags": []
   },
   "outputs": [
    {
     "name": "stdout",
     "output_type": "stream",
     "text": [
      "HP Pavilion Plus Creator OLED Eyesafe (2023) Intel H-Series Core i5 12th Gen - (16 GB/512 GB SSD/Windo...\n"
     ]
    }
   ],
   "source": [
    "container = containers[4]\n",
    "prod_name = container.div.img[\"alt\"]\n",
    "print(prod_name)"
   ]
  },
  {
   "cell_type": "markdown",
   "id": "trained-heart",
   "metadata": {
    "papermill": {
     "duration": 0.033845,
     "end_time": "2021-05-08T07:23:27.590750",
     "exception": false,
     "start_time": "2021-05-08T07:23:27.556905",
     "status": "completed"
    },
    "tags": []
   },
   "source": [
    "### Get the Original Price of the product:"
   ]
  },
  {
   "cell_type": "code",
   "execution_count": 8,
   "id": "rational-hypothetical",
   "metadata": {
    "execution": {
     "iopub.execute_input": "2021-05-08T07:23:27.671909Z",
     "iopub.status.busy": "2021-05-08T07:23:27.671010Z",
     "iopub.status.idle": "2021-05-08T07:23:27.674044Z",
     "shell.execute_reply": "2021-05-08T07:23:27.674638Z"
    },
    "papermill": {
     "duration": 0.050334,
     "end_time": "2021-05-08T07:23:27.674816",
     "exception": false,
     "start_time": "2021-05-08T07:23:27.624482",
     "status": "completed"
    },
    "tags": []
   },
   "outputs": [
    {
     "name": "stdout",
     "output_type": "stream",
     "text": [
      "₹99,533\n"
     ]
    }
   ],
   "source": [
    "original_price = container.findAll(\"div\", {\"class\": \"_3I9_wc _27UcVY\"})\n",
    "print(original_price[0].text)"
   ]
  },
  {
   "cell_type": "markdown",
   "id": "worst-pressing",
   "metadata": {
    "papermill": {
     "duration": 0.023086,
     "end_time": "2021-05-08T07:23:27.721607",
     "exception": false,
     "start_time": "2021-05-08T07:23:27.698521",
     "status": "completed"
    },
    "tags": []
   },
   "source": [
    "### Get the Discount Percentage on the product:"
   ]
  },
  {
   "cell_type": "code",
   "execution_count": 9,
   "id": "bridal-intersection",
   "metadata": {
    "execution": {
     "iopub.execute_input": "2021-05-08T07:23:27.773251Z",
     "iopub.status.busy": "2021-05-08T07:23:27.772685Z",
     "iopub.status.idle": "2021-05-08T07:23:27.776936Z",
     "shell.execute_reply": "2021-05-08T07:23:27.777502Z"
    },
    "papermill": {
     "duration": 0.032659,
     "end_time": "2021-05-08T07:23:27.777682",
     "exception": false,
     "start_time": "2021-05-08T07:23:27.745023",
     "status": "completed"
    },
    "tags": []
   },
   "outputs": [
    {
     "name": "stdout",
     "output_type": "stream",
     "text": [
      "19% off\n"
     ]
    }
   ],
   "source": [
    "discount_percent = container.findAll(\"div\", {\"class\": \"_3Ay6Sb\"})\n",
    "print(discount_percent[0].text)"
   ]
  },
  {
   "cell_type": "markdown",
   "id": "perceived-integration",
   "metadata": {
    "papermill": {
     "duration": 0.022809,
     "end_time": "2021-05-08T07:23:27.824118",
     "exception": false,
     "start_time": "2021-05-08T07:23:27.801309",
     "status": "completed"
    },
    "tags": []
   },
   "source": [
    "### Get the Discounted Price of the product:"
   ]
  },
  {
   "cell_type": "code",
   "execution_count": 10,
   "id": "agreed-capture",
   "metadata": {
    "execution": {
     "iopub.execute_input": "2021-05-08T07:23:27.875807Z",
     "iopub.status.busy": "2021-05-08T07:23:27.875291Z",
     "iopub.status.idle": "2021-05-08T07:23:27.879831Z",
     "shell.execute_reply": "2021-05-08T07:23:27.880221Z"
    },
    "papermill": {
     "duration": 0.032866,
     "end_time": "2021-05-08T07:23:27.880356",
     "exception": false,
     "start_time": "2021-05-08T07:23:27.847490",
     "status": "completed"
    },
    "tags": []
   },
   "outputs": [
    {
     "name": "stdout",
     "output_type": "stream",
     "text": [
      "₹79,990\n"
     ]
    }
   ],
   "source": [
    "discounted_price = container.findAll(\"div\", {\"class\": \"_30jeq3 _1_WHN1\"})\n",
    "print(discounted_price[0].text)"
   ]
  },
  {
   "cell_type": "markdown",
   "id": "abstract-clearance",
   "metadata": {
    "papermill": {
     "duration": 0.024317,
     "end_time": "2021-05-08T07:23:27.928110",
     "exception": false,
     "start_time": "2021-05-08T07:23:27.903793",
     "status": "completed"
    },
    "tags": []
   },
   "source": [
    "### Get the Product Ratings:"
   ]
  },
  {
   "cell_type": "code",
   "execution_count": 11,
   "id": "packed-bidding",
   "metadata": {
    "execution": {
     "iopub.execute_input": "2021-05-08T07:23:27.981758Z",
     "iopub.status.busy": "2021-05-08T07:23:27.981053Z",
     "iopub.status.idle": "2021-05-08T07:23:27.985378Z",
     "shell.execute_reply": "2021-05-08T07:23:27.984873Z"
    },
    "papermill": {
     "duration": 0.032802,
     "end_time": "2021-05-08T07:23:27.985492",
     "exception": false,
     "start_time": "2021-05-08T07:23:27.952690",
     "status": "completed"
    },
    "tags": []
   },
   "outputs": [
    {
     "name": "stdout",
     "output_type": "stream",
     "text": [
      "4.6\n"
     ]
    }
   ],
   "source": [
    "prod_ratings = container.findAll(\"span\", {\"class\": \"_1lRcqv\"})\n",
    "print(prod_ratings[0].text)"
   ]
  },
  {
   "cell_type": "markdown",
   "id": "swiss-official",
   "metadata": {
    "papermill": {
     "duration": 0.025427,
     "end_time": "2021-05-08T07:23:28.035067",
     "exception": false,
     "start_time": "2021-05-08T07:23:28.009640",
     "status": "completed"
    },
    "tags": []
   },
   "source": [
    "### Get the Number of Product Reviews:"
   ]
  },
  {
   "cell_type": "code",
   "execution_count": 12,
   "id": "animated-cotton",
   "metadata": {
    "execution": {
     "iopub.execute_input": "2021-05-08T07:23:28.089634Z",
     "iopub.status.busy": "2021-05-08T07:23:28.089056Z",
     "iopub.status.idle": "2021-05-08T07:23:28.094783Z",
     "shell.execute_reply": "2021-05-08T07:23:28.093773Z"
    },
    "papermill": {
     "duration": 0.034019,
     "end_time": "2021-05-08T07:23:28.094947",
     "exception": false,
     "start_time": "2021-05-08T07:23:28.060928",
     "status": "completed"
    },
    "tags": []
   },
   "outputs": [
    {
     "name": "stdout",
     "output_type": "stream",
     "text": [
      "18 Ratings & 3 Reviews\n"
     ]
    }
   ],
   "source": [
    "reviews = container.findAll(\"span\", {\"class\" : \"_2_R_DZ\"})\n",
    "print(reviews[0].text)"
   ]
  },
  {
   "cell_type": "markdown",
   "id": "beginning-separation",
   "metadata": {
    "papermill": {
     "duration": 0.024302,
     "end_time": "2021-05-08T07:23:28.144687",
     "exception": false,
     "start_time": "2021-05-08T07:23:28.120385",
     "status": "completed"
    },
    "tags": []
   },
   "source": [
    "### Make a csv file and then edit in it the details:"
   ]
  },
  {
   "cell_type": "markdown",
   "id": "strong-mathematics",
   "metadata": {
    "papermill": {
     "duration": 0.025098,
     "end_time": "2021-05-08T07:23:28.195080",
     "exception": false,
     "start_time": "2021-05-08T07:23:28.169982",
     "status": "completed"
    },
    "tags": []
   },
   "source": [
    "### Getting the Detailes in Summary Form:"
   ]
  },
  {
   "cell_type": "code",
   "execution_count": 13,
   "id": "sorted-solution",
   "metadata": {
    "execution": {
     "iopub.execute_input": "2021-05-08T07:23:28.268011Z",
     "iopub.status.busy": "2021-05-08T07:23:28.256957Z",
     "iopub.status.idle": "2021-05-08T07:23:28.274016Z",
     "shell.execute_reply": "2021-05-08T07:23:28.274856Z"
    },
    "papermill": {
     "duration": 0.055346,
     "end_time": "2021-05-08T07:23:28.274991",
     "exception": false,
     "start_time": "2021-05-08T07:23:28.219645",
     "status": "completed"
    },
    "tags": []
   },
   "outputs": [
    {
     "name": "stdout",
     "output_type": "stream",
     "text": [
      "\u001b[1mProduct Name:\n",
      "\u001b[0mAPPLE 2020 Macbook Air M1 - (8 GB/256 GB SSD/Mac OS Big Sur) MGN63HN/A \n",
      "\n",
      "\u001b[1mOriginal Price:\n",
      "\u001b[0m₹99,900 \n",
      "\n",
      "\u001b[1mDiscount Percentage:\n",
      "\u001b[0m21% off \n",
      "\n",
      "\u001b[1mDiscounted Price:\n",
      "\u001b[0m₹77,990 \n",
      "\n",
      "\u001b[1mRatings:\n",
      "\u001b[0m4.7 \n",
      "\n",
      "\u001b[1mNumber of Reviews:\n",
      "\u001b[0m10,018 Ratings & 869 Reviews \n",
      "\n",
      "------------------------------------------------------------------------------------------------------------------\n",
      "\u001b[1mProduct Name:\n",
      "\u001b[0mAPPLE 2020 Macbook Air M1 - (8 GB/256 GB SSD/Mac OS Big Sur) MGN93HN/A \n",
      "\n",
      "\u001b[1mOriginal Price:\n",
      "\u001b[0m₹99,900 \n",
      "\n",
      "\u001b[1mDiscount Percentage:\n",
      "\u001b[0m21% off \n",
      "\n",
      "\u001b[1mDiscounted Price:\n",
      "\u001b[0m₹77,990 \n",
      "\n",
      "\u001b[1mRatings:\n",
      "\u001b[0m4.7 \n",
      "\n",
      "\u001b[1mNumber of Reviews:\n",
      "\u001b[0m10,018 Ratings & 869 Reviews \n",
      "\n",
      "------------------------------------------------------------------------------------------------------------------\n",
      "\u001b[1mProduct Name:\n",
      "\u001b[0mMSI Core i5 12th Gen - (16 GB/512 GB SSD/Windows 11 Home/4 GB Graphics/NVIDIA GeForce RTX 3050) Katana... \n",
      "\n",
      "\u001b[1mOriginal Price:\n",
      "\u001b[0m₹95,990 \n",
      "\n",
      "\u001b[1mDiscount Percentage:\n",
      "\u001b[0m20% off \n",
      "\n",
      "\u001b[1mDiscounted Price:\n",
      "\u001b[0m₹75,990 \n",
      "\n",
      "\u001b[1mRatings:\n",
      "\u001b[0mN/A \n",
      "\n",
      "\u001b[1mNumber of Reviews:\n",
      "\u001b[0mN/A \n",
      "\n",
      "------------------------------------------------------------------------------------------------------------------\n",
      "\u001b[1mProduct Name:\n",
      "\u001b[0mHP Pavilion x360 (2023) Intel Core i5 13th Gen - (16 GB/1 TB SSD/Windows 11 Home) 14-ek1010TU Thin and... \n",
      "\n",
      "\u001b[1mOriginal Price:\n",
      "\u001b[0m₹92,746 \n",
      "\n",
      "\u001b[1mDiscount Percentage:\n",
      "\u001b[0m16% off \n",
      "\n",
      "\u001b[1mDiscounted Price:\n",
      "\u001b[0m₹76,990 \n",
      "\n",
      "\u001b[1mRatings:\n",
      "\u001b[0m3.9 \n",
      "\n",
      "\u001b[1mNumber of Reviews:\n",
      "\u001b[0m10 Ratings & 3 Reviews \n",
      "\n",
      "------------------------------------------------------------------------------------------------------------------\n",
      "\u001b[1mProduct Name:\n",
      "\u001b[0mHP Pavilion Plus Creator OLED Eyesafe (2023) Intel H-Series Core i5 12th Gen - (16 GB/512 GB SSD/Windo... \n",
      "\n",
      "\u001b[1mOriginal Price:\n",
      "\u001b[0m₹99,533 \n",
      "\n",
      "\u001b[1mDiscount Percentage:\n",
      "\u001b[0m19% off \n",
      "\n",
      "\u001b[1mDiscounted Price:\n",
      "\u001b[0m₹79,990 \n",
      "\n",
      "\u001b[1mRatings:\n",
      "\u001b[0m4.6 \n",
      "\n",
      "\u001b[1mNumber of Reviews:\n",
      "\u001b[0m18 Ratings & 3 Reviews \n",
      "\n",
      "------------------------------------------------------------------------------------------------------------------\n"
     ]
    }
   ],
   "source": [
    "for container in containers[:5]:\n",
    "    product_name = container.findAll(\"div\", {\"class\": \"_4rR01T\"})\n",
    "    if product_name:\n",
    "        prod_name = product_name[0].text.strip()\n",
    "    else:\n",
    "        prod_name = \"N/A\"\n",
    "\n",
    "    original_price = container.findAll(\"div\", {\"class\": \"_3I9_wc _27UcVY\"})\n",
    "    if original_price:\n",
    "        original = original_price[0].text.strip()\n",
    "    else:\n",
    "        original = \"N/A\"\n",
    "\n",
    "    discount_percent = container.findAll(\"div\", {\"class\": \"_3Ay6Sb\"})\n",
    "    if discount_percent:\n",
    "        percent = discount_percent[0].text.strip()\n",
    "    else:\n",
    "        percent = \"N/A\"\n",
    "\n",
    "    discounted_price = container.findAll(\"div\", {\"class\": \"_30jeq3 _1_WHN1\"})\n",
    "    if discounted_price:\n",
    "        discount = discounted_price[0].text.strip()\n",
    "    else:\n",
    "        discount = \"N/A\"\n",
    "\n",
    "    rating_container = container.findAll(\"span\", {\"class\": \"_1lRcqv\"})\n",
    "    if rating_container:\n",
    "        prod_rating = rating_container[0].text.strip()\n",
    "    else:\n",
    "        prod_rating = \"N/A\"\n",
    "\n",
    "    reviews_container = container.findAll(\"span\", {\"class\": \"_2_R_DZ\"})\n",
    "    if reviews_container:\n",
    "        reviews_rating = reviews_container[0].text\n",
    "    else:\n",
    "        reviews_rating = \"N/A\"\n",
    "\n",
    "    print(\"\\033[1mProduct Name:\\n\" + '\\033[0m' + str(prod_name), \"\\n\")\n",
    "    print(\"\\033[1mOriginal Price:\\n\" + '\\033[0m' + str(original), \"\\n\")\n",
    "    print(\"\\033[1mDiscount Percentage:\\n\" + '\\033[0m' + str(percent), \"\\n\")\n",
    "    print(\"\\033[1mDiscounted Price:\\n\" + '\\033[0m' + str(discount), \"\\n\")\n",
    "    print(\"\\033[1mRatings:\\n\" + '\\033[0m' + prod_rating, \"\\n\")\n",
    "    print(\"\\033[1mNumber of Reviews:\\n\" + '\\033[0m' + reviews_rating, \"\\n\")\n",
    "    print(\"------------------------------------------------------------------------------------------------------------------\")"
   ]
  },
  {
   "cell_type": "markdown",
   "id": "loose-gabriel",
   "metadata": {
    "papermill": {
     "duration": 0.024741,
     "end_time": "2021-05-08T07:23:28.324975",
     "exception": false,
     "start_time": "2021-05-08T07:23:28.300234",
     "status": "completed"
    },
    "tags": []
   },
   "source": [
    "### Insight:\n",
    "\n",
    "These are the first 5 laptops you scrapped from the URL used."
   ]
  }
 ],
 "metadata": {
  "kernelspec": {
   "display_name": "Python 3 (ipykernel)",
   "language": "python",
   "name": "python3"
  },
  "language_info": {
   "codemirror_mode": {
    "name": "ipython",
    "version": 3
   },
   "file_extension": ".py",
   "mimetype": "text/x-python",
   "name": "python",
   "nbconvert_exporter": "python",
   "pygments_lexer": "ipython3",
   "version": "3.9.13"
  },
  "papermill": {
   "default_parameters": {},
   "duration": 23.690139,
   "end_time": "2021-05-08T07:23:29.740612",
   "environment_variables": {},
   "exception": null,
   "input_path": "__notebook__.ipynb",
   "output_path": "__notebook__.ipynb",
   "parameters": {},
   "start_time": "2021-05-08T07:23:06.050473",
   "version": "2.3.3"
  }
 },
 "nbformat": 4,
 "nbformat_minor": 5
}
